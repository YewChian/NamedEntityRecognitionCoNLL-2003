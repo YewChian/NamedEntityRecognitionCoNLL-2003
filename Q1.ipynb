{
  "nbformat": 4,
  "nbformat_minor": 0,
  "metadata": {
    "colab": {
      "provenance": [],
      "gpuType": "T4"
    },
    "kernelspec": {
      "name": "python3",
      "display_name": "Python 3"
    },
    "language_info": {
      "name": "python"
    },
    "accelerator": "GPU"
  },
  "cells": [
    {
      "cell_type": "code",
      "execution_count": null,
      "metadata": {
        "id": "JR9kxHJXTvMT",
        "colab": {
          "base_uri": "https://localhost:8080/"
        },
        "outputId": "2040835d-3d7c-4599-9812-e8df5fbdc50b"
      },
      "outputs": [
        {
          "output_type": "stream",
          "name": "stdout",
          "text": [
            "Requirement already satisfied: gensim in /usr/local/lib/python3.10/dist-packages (4.3.2)\n",
            "Requirement already satisfied: numpy>=1.18.5 in /usr/local/lib/python3.10/dist-packages (from gensim) (1.23.5)\n",
            "Requirement already satisfied: scipy>=1.7.0 in /usr/local/lib/python3.10/dist-packages (from gensim) (1.11.3)\n",
            "Requirement already satisfied: smart-open>=1.8.1 in /usr/local/lib/python3.10/dist-packages (from gensim) (6.4.0)\n"
          ]
        }
      ],
      "source": [
        "!pip install --upgrade gensim"
      ]
    },
    {
      "cell_type": "code",
      "source": [
        "import gensim.downloader\n",
        "import pickle\n",
        "import numpy as np\n",
        "from sklearn import metrics\n",
        "import pandas as pd\n",
        "import tensorflow as tf"
      ],
      "metadata": {
        "id": "4R6u-cuFUGJF"
      },
      "execution_count": null,
      "outputs": []
    },
    {
      "cell_type": "code",
      "source": [
        "embeddings = gensim.downloader.load('word2vec-google-news-300')"
      ],
      "metadata": {
        "id": "HMaKQ8RyUP6U",
        "colab": {
          "base_uri": "https://localhost:8080/"
        },
        "outputId": "f3168ebd-27a1-4f74-ff0a-232a97d208b2"
      },
      "execution_count": null,
      "outputs": [
        {
          "output_type": "stream",
          "name": "stdout",
          "text": [
            "[==============================--------------------] 60.1% 999.5/1662.8MB downloaded"
          ]
        }
      ]
    },
    {
      "cell_type": "code",
      "source": [
        "#from google.colab import drive\n",
        "#drive.mount('/content/drive')"
      ],
      "metadata": {
        "id": "IvG5_Sv4UpYl"
      },
      "execution_count": null,
      "outputs": []
    },
    {
      "cell_type": "code",
      "source": [
        "with open(\"./drive/MyDrive/school/embeddings.pkl\", \"rb\") as f:\n",
        "  embeddings = pickle.load(f)"
      ],
      "metadata": {
        "colab": {
          "base_uri": "https://localhost:8080/",
          "height": 221
        },
        "id": "pgmkjkM61p9b",
        "outputId": "18825e76-0a11-4675-fac1-c247cc44603a"
      },
      "execution_count": null,
      "outputs": [
        {
          "output_type": "error",
          "ename": "UnpicklingError",
          "evalue": "ignored",
          "traceback": [
            "\u001b[0;31m---------------------------------------------------------------------------\u001b[0m",
            "\u001b[0;31mUnpicklingError\u001b[0m                           Traceback (most recent call last)",
            "\u001b[0;32m<ipython-input-3-fef97d38b0b3>\u001b[0m in \u001b[0;36m<cell line: 1>\u001b[0;34m()\u001b[0m\n\u001b[1;32m      1\u001b[0m \u001b[0;32mwith\u001b[0m \u001b[0mopen\u001b[0m\u001b[0;34m(\u001b[0m\u001b[0;34m\"./drive/MyDrive/school/embeddings.pkl\"\u001b[0m\u001b[0;34m,\u001b[0m \u001b[0;34m\"rb\"\u001b[0m\u001b[0;34m)\u001b[0m \u001b[0;32mas\u001b[0m \u001b[0mf\u001b[0m\u001b[0;34m:\u001b[0m\u001b[0;34m\u001b[0m\u001b[0;34m\u001b[0m\u001b[0m\n\u001b[0;32m----> 2\u001b[0;31m   \u001b[0membeddings\u001b[0m \u001b[0;34m=\u001b[0m \u001b[0mpickle\u001b[0m\u001b[0;34m.\u001b[0m\u001b[0mload\u001b[0m\u001b[0;34m(\u001b[0m\u001b[0mf\u001b[0m\u001b[0;34m)\u001b[0m\u001b[0;34m\u001b[0m\u001b[0;34m\u001b[0m\u001b[0m\n\u001b[0m",
            "\u001b[0;31mUnpicklingError\u001b[0m: pickle data was truncated"
          ]
        }
      ]
    },
    {
      "cell_type": "markdown",
      "source": [
        "Q1.1 Based on word2vec embeddings you have downloaded, use cosine similarity to find the most similar\n",
        "word to each of these words: (a) “student”; (b) “Apple”; (c) “apple”. Report the most similar word\n",
        "and its cosine similarity."
      ],
      "metadata": {
        "id": "ou77FClyXaa8"
      }
    },
    {
      "cell_type": "code",
      "source": [
        "print(embeddings.most_similar('student')[0])\n",
        "print(embeddings.most_similar('Apple')[0])\n",
        "print(embeddings.most_similar('apple')[0])"
      ],
      "metadata": {
        "id": "_Sr8I7B7dAwF",
        "colab": {
          "base_uri": "https://localhost:8080/"
        },
        "outputId": "f7c0055e-7a0b-4677-a508-7d475ad6b777"
      },
      "execution_count": null,
      "outputs": [
        {
          "output_type": "stream",
          "name": "stdout",
          "text": [
            "('students', 0.7294867038726807)\n",
            "('Apple_AAPL', 0.7456986308097839)\n",
            "('apples', 0.720359742641449)\n"
          ]
        }
      ]
    },
    {
      "cell_type": "code",
      "source": [
        "student_embeddings = embeddings['student'].reshape(1,300)\n",
        "students_embeddings = embeddings['students'].reshape(1,300)\n",
        "print(metrics.pairwise.cosine_similarity(student_embeddings, students_embeddings))"
      ],
      "metadata": {
        "id": "qW5aHaucXpBm",
        "colab": {
          "base_uri": "https://localhost:8080/"
        },
        "outputId": "878bfd19-b497-4cab-acc5-0c00ddf0893e"
      },
      "execution_count": null,
      "outputs": [
        {
          "output_type": "stream",
          "name": "stdout",
          "text": [
            "[[0.72948664]]\n"
          ]
        }
      ]
    },
    {
      "cell_type": "markdown",
      "source": [
        "(a) Describe the size (number of sentences) of the training, development and test file for CoNLL2003.\n",
        "Specify the complete set of all possible word labels based on the tagging scheme (IO, BIO,\n",
        "etc.) you chose."
      ],
      "metadata": {
        "id": "SKMMgdYn7_en"
      }
    },
    {
      "cell_type": "markdown",
      "source": [
        "processing data"
      ],
      "metadata": {
        "id": "ukR9m-jK1MU4"
      }
    },
    {
      "cell_type": "code",
      "source": [
        "header_names = ['word', 'useless1', 'useless2', 'tag']\n",
        "train_raw = pd.read_csv(\"./drive/MyDrive/school/eng.train\", header=None, sep=' ', names=header_names, skip_blank_lines=False)\n",
        "validation_raw = pd.read_csv(\"./drive/MyDrive/school/eng.testa\", header=None, sep=' ', names=header_names, skip_blank_lines=False)\n",
        "test_raw = pd.read_csv(\"./drive/MyDrive/school/eng.testb\", header=None, sep=' ', names=header_names, skip_blank_lines=False)"
      ],
      "metadata": {
        "id": "-GaEs2V9XwWk"
      },
      "execution_count": null,
      "outputs": []
    },
    {
      "cell_type": "code",
      "source": [
        "train_raw[:20]"
      ],
      "metadata": {
        "id": "VnbO89ZwOEor"
      },
      "execution_count": null,
      "outputs": []
    },
    {
      "cell_type": "code",
      "source": [
        "null_indices = train_raw[train_raw['word'].isnull()].reset_index()['index']\n",
        "null_indices"
      ],
      "metadata": {
        "colab": {
          "base_uri": "https://localhost:8080/"
        },
        "id": "SugwY4N6hpUD",
        "outputId": "aaa4e02e-a4f5-4480-81d0-e8f995c74bc9"
      },
      "execution_count": null,
      "outputs": [
        {
          "output_type": "execute_result",
          "data": {
            "text/plain": [
              "0             9\n",
              "1            12\n",
              "2            15\n",
              "3            46\n",
              "4            78\n",
              "          ...  \n",
              "14984    219535\n",
              "14985    219538\n",
              "14986    219543\n",
              "14987    219546\n",
              "14988    219551\n",
              "Name: index, Length: 14989, dtype: int64"
            ]
          },
          "metadata": {},
          "execution_count": 9
        }
      ]
    },
    {
      "cell_type": "code",
      "source": [
        "test_raw"
      ],
      "metadata": {
        "colab": {
          "base_uri": "https://localhost:8080/",
          "height": 424
        },
        "id": "RdjQuj9_Tpa4",
        "outputId": "32d54fa9-e295-4942-c126-792eda4bbaef"
      },
      "execution_count": null,
      "outputs": [
        {
          "output_type": "execute_result",
          "data": {
            "text/plain": [
              "             word useless1 useless2    tag\n",
              "0          SOCCER       NN     I-NP      O\n",
              "1               -        :        O      O\n",
              "2           JAPAN      NNP     I-NP  I-LOC\n",
              "3             GET       VB     I-VP      O\n",
              "4           LUCKY      NNP     I-NP      O\n",
              "...           ...      ...      ...    ...\n",
              "50344           ,        ,        O      O\n",
              "50345       Bobby      NNP     I-NP  I-PER\n",
              "50346           .        .        O      O\n",
              "50347         NaN      NaN      NaN    NaN\n",
              "50348  -DOCSTART-      -X-      -X-      O\n",
              "\n",
              "[50349 rows x 4 columns]"
            ],
            "text/html": [
              "\n",
              "  <div id=\"df-1d9debbf-9e24-4978-8060-b29936160cd8\" class=\"colab-df-container\">\n",
              "    <div>\n",
              "<style scoped>\n",
              "    .dataframe tbody tr th:only-of-type {\n",
              "        vertical-align: middle;\n",
              "    }\n",
              "\n",
              "    .dataframe tbody tr th {\n",
              "        vertical-align: top;\n",
              "    }\n",
              "\n",
              "    .dataframe thead th {\n",
              "        text-align: right;\n",
              "    }\n",
              "</style>\n",
              "<table border=\"1\" class=\"dataframe\">\n",
              "  <thead>\n",
              "    <tr style=\"text-align: right;\">\n",
              "      <th></th>\n",
              "      <th>word</th>\n",
              "      <th>useless1</th>\n",
              "      <th>useless2</th>\n",
              "      <th>tag</th>\n",
              "    </tr>\n",
              "  </thead>\n",
              "  <tbody>\n",
              "    <tr>\n",
              "      <th>0</th>\n",
              "      <td>SOCCER</td>\n",
              "      <td>NN</td>\n",
              "      <td>I-NP</td>\n",
              "      <td>O</td>\n",
              "    </tr>\n",
              "    <tr>\n",
              "      <th>1</th>\n",
              "      <td>-</td>\n",
              "      <td>:</td>\n",
              "      <td>O</td>\n",
              "      <td>O</td>\n",
              "    </tr>\n",
              "    <tr>\n",
              "      <th>2</th>\n",
              "      <td>JAPAN</td>\n",
              "      <td>NNP</td>\n",
              "      <td>I-NP</td>\n",
              "      <td>I-LOC</td>\n",
              "    </tr>\n",
              "    <tr>\n",
              "      <th>3</th>\n",
              "      <td>GET</td>\n",
              "      <td>VB</td>\n",
              "      <td>I-VP</td>\n",
              "      <td>O</td>\n",
              "    </tr>\n",
              "    <tr>\n",
              "      <th>4</th>\n",
              "      <td>LUCKY</td>\n",
              "      <td>NNP</td>\n",
              "      <td>I-NP</td>\n",
              "      <td>O</td>\n",
              "    </tr>\n",
              "    <tr>\n",
              "      <th>...</th>\n",
              "      <td>...</td>\n",
              "      <td>...</td>\n",
              "      <td>...</td>\n",
              "      <td>...</td>\n",
              "    </tr>\n",
              "    <tr>\n",
              "      <th>50344</th>\n",
              "      <td>,</td>\n",
              "      <td>,</td>\n",
              "      <td>O</td>\n",
              "      <td>O</td>\n",
              "    </tr>\n",
              "    <tr>\n",
              "      <th>50345</th>\n",
              "      <td>Bobby</td>\n",
              "      <td>NNP</td>\n",
              "      <td>I-NP</td>\n",
              "      <td>I-PER</td>\n",
              "    </tr>\n",
              "    <tr>\n",
              "      <th>50346</th>\n",
              "      <td>.</td>\n",
              "      <td>.</td>\n",
              "      <td>O</td>\n",
              "      <td>O</td>\n",
              "    </tr>\n",
              "    <tr>\n",
              "      <th>50347</th>\n",
              "      <td>NaN</td>\n",
              "      <td>NaN</td>\n",
              "      <td>NaN</td>\n",
              "      <td>NaN</td>\n",
              "    </tr>\n",
              "    <tr>\n",
              "      <th>50348</th>\n",
              "      <td>-DOCSTART-</td>\n",
              "      <td>-X-</td>\n",
              "      <td>-X-</td>\n",
              "      <td>O</td>\n",
              "    </tr>\n",
              "  </tbody>\n",
              "</table>\n",
              "<p>50349 rows × 4 columns</p>\n",
              "</div>\n",
              "    <div class=\"colab-df-buttons\">\n",
              "\n",
              "  <div class=\"colab-df-container\">\n",
              "    <button class=\"colab-df-convert\" onclick=\"convertToInteractive('df-1d9debbf-9e24-4978-8060-b29936160cd8')\"\n",
              "            title=\"Convert this dataframe to an interactive table.\"\n",
              "            style=\"display:none;\">\n",
              "\n",
              "  <svg xmlns=\"http://www.w3.org/2000/svg\" height=\"24px\" viewBox=\"0 -960 960 960\">\n",
              "    <path d=\"M120-120v-720h720v720H120Zm60-500h600v-160H180v160Zm220 220h160v-160H400v160Zm0 220h160v-160H400v160ZM180-400h160v-160H180v160Zm440 0h160v-160H620v160ZM180-180h160v-160H180v160Zm440 0h160v-160H620v160Z\"/>\n",
              "  </svg>\n",
              "    </button>\n",
              "\n",
              "  <style>\n",
              "    .colab-df-container {\n",
              "      display:flex;\n",
              "      gap: 12px;\n",
              "    }\n",
              "\n",
              "    .colab-df-convert {\n",
              "      background-color: #E8F0FE;\n",
              "      border: none;\n",
              "      border-radius: 50%;\n",
              "      cursor: pointer;\n",
              "      display: none;\n",
              "      fill: #1967D2;\n",
              "      height: 32px;\n",
              "      padding: 0 0 0 0;\n",
              "      width: 32px;\n",
              "    }\n",
              "\n",
              "    .colab-df-convert:hover {\n",
              "      background-color: #E2EBFA;\n",
              "      box-shadow: 0px 1px 2px rgba(60, 64, 67, 0.3), 0px 1px 3px 1px rgba(60, 64, 67, 0.15);\n",
              "      fill: #174EA6;\n",
              "    }\n",
              "\n",
              "    .colab-df-buttons div {\n",
              "      margin-bottom: 4px;\n",
              "    }\n",
              "\n",
              "    [theme=dark] .colab-df-convert {\n",
              "      background-color: #3B4455;\n",
              "      fill: #D2E3FC;\n",
              "    }\n",
              "\n",
              "    [theme=dark] .colab-df-convert:hover {\n",
              "      background-color: #434B5C;\n",
              "      box-shadow: 0px 1px 3px 1px rgba(0, 0, 0, 0.15);\n",
              "      filter: drop-shadow(0px 1px 2px rgba(0, 0, 0, 0.3));\n",
              "      fill: #FFFFFF;\n",
              "    }\n",
              "  </style>\n",
              "\n",
              "    <script>\n",
              "      const buttonEl =\n",
              "        document.querySelector('#df-1d9debbf-9e24-4978-8060-b29936160cd8 button.colab-df-convert');\n",
              "      buttonEl.style.display =\n",
              "        google.colab.kernel.accessAllowed ? 'block' : 'none';\n",
              "\n",
              "      async function convertToInteractive(key) {\n",
              "        const element = document.querySelector('#df-1d9debbf-9e24-4978-8060-b29936160cd8');\n",
              "        const dataTable =\n",
              "          await google.colab.kernel.invokeFunction('convertToInteractive',\n",
              "                                                    [key], {});\n",
              "        if (!dataTable) return;\n",
              "\n",
              "        const docLinkHtml = 'Like what you see? Visit the ' +\n",
              "          '<a target=\"_blank\" href=https://colab.research.google.com/notebooks/data_table.ipynb>data table notebook</a>'\n",
              "          + ' to learn more about interactive tables.';\n",
              "        element.innerHTML = '';\n",
              "        dataTable['output_type'] = 'display_data';\n",
              "        await google.colab.output.renderOutput(dataTable, element);\n",
              "        const docLink = document.createElement('div');\n",
              "        docLink.innerHTML = docLinkHtml;\n",
              "        element.appendChild(docLink);\n",
              "      }\n",
              "    </script>\n",
              "  </div>\n",
              "\n",
              "\n",
              "<div id=\"df-4480bad8-f9b9-4e53-bb3e-d44c83986b84\">\n",
              "  <button class=\"colab-df-quickchart\" onclick=\"quickchart('df-4480bad8-f9b9-4e53-bb3e-d44c83986b84')\"\n",
              "            title=\"Suggest charts.\"\n",
              "            style=\"display:none;\">\n",
              "\n",
              "<svg xmlns=\"http://www.w3.org/2000/svg\" height=\"24px\"viewBox=\"0 0 24 24\"\n",
              "     width=\"24px\">\n",
              "    <g>\n",
              "        <path d=\"M19 3H5c-1.1 0-2 .9-2 2v14c0 1.1.9 2 2 2h14c1.1 0 2-.9 2-2V5c0-1.1-.9-2-2-2zM9 17H7v-7h2v7zm4 0h-2V7h2v10zm4 0h-2v-4h2v4z\"/>\n",
              "    </g>\n",
              "</svg>\n",
              "  </button>\n",
              "\n",
              "<style>\n",
              "  .colab-df-quickchart {\n",
              "      --bg-color: #E8F0FE;\n",
              "      --fill-color: #1967D2;\n",
              "      --hover-bg-color: #E2EBFA;\n",
              "      --hover-fill-color: #174EA6;\n",
              "      --disabled-fill-color: #AAA;\n",
              "      --disabled-bg-color: #DDD;\n",
              "  }\n",
              "\n",
              "  [theme=dark] .colab-df-quickchart {\n",
              "      --bg-color: #3B4455;\n",
              "      --fill-color: #D2E3FC;\n",
              "      --hover-bg-color: #434B5C;\n",
              "      --hover-fill-color: #FFFFFF;\n",
              "      --disabled-bg-color: #3B4455;\n",
              "      --disabled-fill-color: #666;\n",
              "  }\n",
              "\n",
              "  .colab-df-quickchart {\n",
              "    background-color: var(--bg-color);\n",
              "    border: none;\n",
              "    border-radius: 50%;\n",
              "    cursor: pointer;\n",
              "    display: none;\n",
              "    fill: var(--fill-color);\n",
              "    height: 32px;\n",
              "    padding: 0;\n",
              "    width: 32px;\n",
              "  }\n",
              "\n",
              "  .colab-df-quickchart:hover {\n",
              "    background-color: var(--hover-bg-color);\n",
              "    box-shadow: 0 1px 2px rgba(60, 64, 67, 0.3), 0 1px 3px 1px rgba(60, 64, 67, 0.15);\n",
              "    fill: var(--button-hover-fill-color);\n",
              "  }\n",
              "\n",
              "  .colab-df-quickchart-complete:disabled,\n",
              "  .colab-df-quickchart-complete:disabled:hover {\n",
              "    background-color: var(--disabled-bg-color);\n",
              "    fill: var(--disabled-fill-color);\n",
              "    box-shadow: none;\n",
              "  }\n",
              "\n",
              "  .colab-df-spinner {\n",
              "    border: 2px solid var(--fill-color);\n",
              "    border-color: transparent;\n",
              "    border-bottom-color: var(--fill-color);\n",
              "    animation:\n",
              "      spin 1s steps(1) infinite;\n",
              "  }\n",
              "\n",
              "  @keyframes spin {\n",
              "    0% {\n",
              "      border-color: transparent;\n",
              "      border-bottom-color: var(--fill-color);\n",
              "      border-left-color: var(--fill-color);\n",
              "    }\n",
              "    20% {\n",
              "      border-color: transparent;\n",
              "      border-left-color: var(--fill-color);\n",
              "      border-top-color: var(--fill-color);\n",
              "    }\n",
              "    30% {\n",
              "      border-color: transparent;\n",
              "      border-left-color: var(--fill-color);\n",
              "      border-top-color: var(--fill-color);\n",
              "      border-right-color: var(--fill-color);\n",
              "    }\n",
              "    40% {\n",
              "      border-color: transparent;\n",
              "      border-right-color: var(--fill-color);\n",
              "      border-top-color: var(--fill-color);\n",
              "    }\n",
              "    60% {\n",
              "      border-color: transparent;\n",
              "      border-right-color: var(--fill-color);\n",
              "    }\n",
              "    80% {\n",
              "      border-color: transparent;\n",
              "      border-right-color: var(--fill-color);\n",
              "      border-bottom-color: var(--fill-color);\n",
              "    }\n",
              "    90% {\n",
              "      border-color: transparent;\n",
              "      border-bottom-color: var(--fill-color);\n",
              "    }\n",
              "  }\n",
              "</style>\n",
              "\n",
              "  <script>\n",
              "    async function quickchart(key) {\n",
              "      const quickchartButtonEl =\n",
              "        document.querySelector('#' + key + ' button');\n",
              "      quickchartButtonEl.disabled = true;  // To prevent multiple clicks.\n",
              "      quickchartButtonEl.classList.add('colab-df-spinner');\n",
              "      try {\n",
              "        const charts = await google.colab.kernel.invokeFunction(\n",
              "            'suggestCharts', [key], {});\n",
              "      } catch (error) {\n",
              "        console.error('Error during call to suggestCharts:', error);\n",
              "      }\n",
              "      quickchartButtonEl.classList.remove('colab-df-spinner');\n",
              "      quickchartButtonEl.classList.add('colab-df-quickchart-complete');\n",
              "    }\n",
              "    (() => {\n",
              "      let quickchartButtonEl =\n",
              "        document.querySelector('#df-4480bad8-f9b9-4e53-bb3e-d44c83986b84 button');\n",
              "      quickchartButtonEl.style.display =\n",
              "        google.colab.kernel.accessAllowed ? 'block' : 'none';\n",
              "    })();\n",
              "  </script>\n",
              "</div>\n",
              "    </div>\n",
              "  </div>\n"
            ]
          },
          "metadata": {},
          "execution_count": 11
        }
      ]
    },
    {
      "cell_type": "code",
      "source": [
        "validation_raw"
      ],
      "metadata": {
        "colab": {
          "base_uri": "https://localhost:8080/",
          "height": 424
        },
        "id": "YbLVpqafUUxZ",
        "outputId": "5719bbd7-1ea2-477b-9e04-7714098775e9"
      },
      "execution_count": null,
      "outputs": [
        {
          "output_type": "execute_result",
          "data": {
            "text/plain": [
              "                 word useless1 useless2    tag\n",
              "0             CRICKET      NNP     I-NP      O\n",
              "1                   -        :        O      O\n",
              "2      LEICESTERSHIRE      NNP     I-NP  I-ORG\n",
              "3                TAKE      NNP     I-NP      O\n",
              "4                OVER       IN     I-PP      O\n",
              "...               ...      ...      ...    ...\n",
              "55038           Dhaka      NNP     I-NP  I-ORG\n",
              "55039        Newsroom      NNP     I-NP  I-ORG\n",
              "55040    880-2-506363       CD     I-NP      O\n",
              "55041             NaN      NaN      NaN    NaN\n",
              "55042      -DOCSTART-      -X-        O      O\n",
              "\n",
              "[55043 rows x 4 columns]"
            ],
            "text/html": [
              "\n",
              "  <div id=\"df-ebc89fc0-ce1b-4ccf-a0cd-f3e2f1887627\" class=\"colab-df-container\">\n",
              "    <div>\n",
              "<style scoped>\n",
              "    .dataframe tbody tr th:only-of-type {\n",
              "        vertical-align: middle;\n",
              "    }\n",
              "\n",
              "    .dataframe tbody tr th {\n",
              "        vertical-align: top;\n",
              "    }\n",
              "\n",
              "    .dataframe thead th {\n",
              "        text-align: right;\n",
              "    }\n",
              "</style>\n",
              "<table border=\"1\" class=\"dataframe\">\n",
              "  <thead>\n",
              "    <tr style=\"text-align: right;\">\n",
              "      <th></th>\n",
              "      <th>word</th>\n",
              "      <th>useless1</th>\n",
              "      <th>useless2</th>\n",
              "      <th>tag</th>\n",
              "    </tr>\n",
              "  </thead>\n",
              "  <tbody>\n",
              "    <tr>\n",
              "      <th>0</th>\n",
              "      <td>CRICKET</td>\n",
              "      <td>NNP</td>\n",
              "      <td>I-NP</td>\n",
              "      <td>O</td>\n",
              "    </tr>\n",
              "    <tr>\n",
              "      <th>1</th>\n",
              "      <td>-</td>\n",
              "      <td>:</td>\n",
              "      <td>O</td>\n",
              "      <td>O</td>\n",
              "    </tr>\n",
              "    <tr>\n",
              "      <th>2</th>\n",
              "      <td>LEICESTERSHIRE</td>\n",
              "      <td>NNP</td>\n",
              "      <td>I-NP</td>\n",
              "      <td>I-ORG</td>\n",
              "    </tr>\n",
              "    <tr>\n",
              "      <th>3</th>\n",
              "      <td>TAKE</td>\n",
              "      <td>NNP</td>\n",
              "      <td>I-NP</td>\n",
              "      <td>O</td>\n",
              "    </tr>\n",
              "    <tr>\n",
              "      <th>4</th>\n",
              "      <td>OVER</td>\n",
              "      <td>IN</td>\n",
              "      <td>I-PP</td>\n",
              "      <td>O</td>\n",
              "    </tr>\n",
              "    <tr>\n",
              "      <th>...</th>\n",
              "      <td>...</td>\n",
              "      <td>...</td>\n",
              "      <td>...</td>\n",
              "      <td>...</td>\n",
              "    </tr>\n",
              "    <tr>\n",
              "      <th>55038</th>\n",
              "      <td>Dhaka</td>\n",
              "      <td>NNP</td>\n",
              "      <td>I-NP</td>\n",
              "      <td>I-ORG</td>\n",
              "    </tr>\n",
              "    <tr>\n",
              "      <th>55039</th>\n",
              "      <td>Newsroom</td>\n",
              "      <td>NNP</td>\n",
              "      <td>I-NP</td>\n",
              "      <td>I-ORG</td>\n",
              "    </tr>\n",
              "    <tr>\n",
              "      <th>55040</th>\n",
              "      <td>880-2-506363</td>\n",
              "      <td>CD</td>\n",
              "      <td>I-NP</td>\n",
              "      <td>O</td>\n",
              "    </tr>\n",
              "    <tr>\n",
              "      <th>55041</th>\n",
              "      <td>NaN</td>\n",
              "      <td>NaN</td>\n",
              "      <td>NaN</td>\n",
              "      <td>NaN</td>\n",
              "    </tr>\n",
              "    <tr>\n",
              "      <th>55042</th>\n",
              "      <td>-DOCSTART-</td>\n",
              "      <td>-X-</td>\n",
              "      <td>O</td>\n",
              "      <td>O</td>\n",
              "    </tr>\n",
              "  </tbody>\n",
              "</table>\n",
              "<p>55043 rows × 4 columns</p>\n",
              "</div>\n",
              "    <div class=\"colab-df-buttons\">\n",
              "\n",
              "  <div class=\"colab-df-container\">\n",
              "    <button class=\"colab-df-convert\" onclick=\"convertToInteractive('df-ebc89fc0-ce1b-4ccf-a0cd-f3e2f1887627')\"\n",
              "            title=\"Convert this dataframe to an interactive table.\"\n",
              "            style=\"display:none;\">\n",
              "\n",
              "  <svg xmlns=\"http://www.w3.org/2000/svg\" height=\"24px\" viewBox=\"0 -960 960 960\">\n",
              "    <path d=\"M120-120v-720h720v720H120Zm60-500h600v-160H180v160Zm220 220h160v-160H400v160Zm0 220h160v-160H400v160ZM180-400h160v-160H180v160Zm440 0h160v-160H620v160ZM180-180h160v-160H180v160Zm440 0h160v-160H620v160Z\"/>\n",
              "  </svg>\n",
              "    </button>\n",
              "\n",
              "  <style>\n",
              "    .colab-df-container {\n",
              "      display:flex;\n",
              "      gap: 12px;\n",
              "    }\n",
              "\n",
              "    .colab-df-convert {\n",
              "      background-color: #E8F0FE;\n",
              "      border: none;\n",
              "      border-radius: 50%;\n",
              "      cursor: pointer;\n",
              "      display: none;\n",
              "      fill: #1967D2;\n",
              "      height: 32px;\n",
              "      padding: 0 0 0 0;\n",
              "      width: 32px;\n",
              "    }\n",
              "\n",
              "    .colab-df-convert:hover {\n",
              "      background-color: #E2EBFA;\n",
              "      box-shadow: 0px 1px 2px rgba(60, 64, 67, 0.3), 0px 1px 3px 1px rgba(60, 64, 67, 0.15);\n",
              "      fill: #174EA6;\n",
              "    }\n",
              "\n",
              "    .colab-df-buttons div {\n",
              "      margin-bottom: 4px;\n",
              "    }\n",
              "\n",
              "    [theme=dark] .colab-df-convert {\n",
              "      background-color: #3B4455;\n",
              "      fill: #D2E3FC;\n",
              "    }\n",
              "\n",
              "    [theme=dark] .colab-df-convert:hover {\n",
              "      background-color: #434B5C;\n",
              "      box-shadow: 0px 1px 3px 1px rgba(0, 0, 0, 0.15);\n",
              "      filter: drop-shadow(0px 1px 2px rgba(0, 0, 0, 0.3));\n",
              "      fill: #FFFFFF;\n",
              "    }\n",
              "  </style>\n",
              "\n",
              "    <script>\n",
              "      const buttonEl =\n",
              "        document.querySelector('#df-ebc89fc0-ce1b-4ccf-a0cd-f3e2f1887627 button.colab-df-convert');\n",
              "      buttonEl.style.display =\n",
              "        google.colab.kernel.accessAllowed ? 'block' : 'none';\n",
              "\n",
              "      async function convertToInteractive(key) {\n",
              "        const element = document.querySelector('#df-ebc89fc0-ce1b-4ccf-a0cd-f3e2f1887627');\n",
              "        const dataTable =\n",
              "          await google.colab.kernel.invokeFunction('convertToInteractive',\n",
              "                                                    [key], {});\n",
              "        if (!dataTable) return;\n",
              "\n",
              "        const docLinkHtml = 'Like what you see? Visit the ' +\n",
              "          '<a target=\"_blank\" href=https://colab.research.google.com/notebooks/data_table.ipynb>data table notebook</a>'\n",
              "          + ' to learn more about interactive tables.';\n",
              "        element.innerHTML = '';\n",
              "        dataTable['output_type'] = 'display_data';\n",
              "        await google.colab.output.renderOutput(dataTable, element);\n",
              "        const docLink = document.createElement('div');\n",
              "        docLink.innerHTML = docLinkHtml;\n",
              "        element.appendChild(docLink);\n",
              "      }\n",
              "    </script>\n",
              "  </div>\n",
              "\n",
              "\n",
              "<div id=\"df-e601b249-2dc9-439b-8160-7aa9abf39762\">\n",
              "  <button class=\"colab-df-quickchart\" onclick=\"quickchart('df-e601b249-2dc9-439b-8160-7aa9abf39762')\"\n",
              "            title=\"Suggest charts.\"\n",
              "            style=\"display:none;\">\n",
              "\n",
              "<svg xmlns=\"http://www.w3.org/2000/svg\" height=\"24px\"viewBox=\"0 0 24 24\"\n",
              "     width=\"24px\">\n",
              "    <g>\n",
              "        <path d=\"M19 3H5c-1.1 0-2 .9-2 2v14c0 1.1.9 2 2 2h14c1.1 0 2-.9 2-2V5c0-1.1-.9-2-2-2zM9 17H7v-7h2v7zm4 0h-2V7h2v10zm4 0h-2v-4h2v4z\"/>\n",
              "    </g>\n",
              "</svg>\n",
              "  </button>\n",
              "\n",
              "<style>\n",
              "  .colab-df-quickchart {\n",
              "      --bg-color: #E8F0FE;\n",
              "      --fill-color: #1967D2;\n",
              "      --hover-bg-color: #E2EBFA;\n",
              "      --hover-fill-color: #174EA6;\n",
              "      --disabled-fill-color: #AAA;\n",
              "      --disabled-bg-color: #DDD;\n",
              "  }\n",
              "\n",
              "  [theme=dark] .colab-df-quickchart {\n",
              "      --bg-color: #3B4455;\n",
              "      --fill-color: #D2E3FC;\n",
              "      --hover-bg-color: #434B5C;\n",
              "      --hover-fill-color: #FFFFFF;\n",
              "      --disabled-bg-color: #3B4455;\n",
              "      --disabled-fill-color: #666;\n",
              "  }\n",
              "\n",
              "  .colab-df-quickchart {\n",
              "    background-color: var(--bg-color);\n",
              "    border: none;\n",
              "    border-radius: 50%;\n",
              "    cursor: pointer;\n",
              "    display: none;\n",
              "    fill: var(--fill-color);\n",
              "    height: 32px;\n",
              "    padding: 0;\n",
              "    width: 32px;\n",
              "  }\n",
              "\n",
              "  .colab-df-quickchart:hover {\n",
              "    background-color: var(--hover-bg-color);\n",
              "    box-shadow: 0 1px 2px rgba(60, 64, 67, 0.3), 0 1px 3px 1px rgba(60, 64, 67, 0.15);\n",
              "    fill: var(--button-hover-fill-color);\n",
              "  }\n",
              "\n",
              "  .colab-df-quickchart-complete:disabled,\n",
              "  .colab-df-quickchart-complete:disabled:hover {\n",
              "    background-color: var(--disabled-bg-color);\n",
              "    fill: var(--disabled-fill-color);\n",
              "    box-shadow: none;\n",
              "  }\n",
              "\n",
              "  .colab-df-spinner {\n",
              "    border: 2px solid var(--fill-color);\n",
              "    border-color: transparent;\n",
              "    border-bottom-color: var(--fill-color);\n",
              "    animation:\n",
              "      spin 1s steps(1) infinite;\n",
              "  }\n",
              "\n",
              "  @keyframes spin {\n",
              "    0% {\n",
              "      border-color: transparent;\n",
              "      border-bottom-color: var(--fill-color);\n",
              "      border-left-color: var(--fill-color);\n",
              "    }\n",
              "    20% {\n",
              "      border-color: transparent;\n",
              "      border-left-color: var(--fill-color);\n",
              "      border-top-color: var(--fill-color);\n",
              "    }\n",
              "    30% {\n",
              "      border-color: transparent;\n",
              "      border-left-color: var(--fill-color);\n",
              "      border-top-color: var(--fill-color);\n",
              "      border-right-color: var(--fill-color);\n",
              "    }\n",
              "    40% {\n",
              "      border-color: transparent;\n",
              "      border-right-color: var(--fill-color);\n",
              "      border-top-color: var(--fill-color);\n",
              "    }\n",
              "    60% {\n",
              "      border-color: transparent;\n",
              "      border-right-color: var(--fill-color);\n",
              "    }\n",
              "    80% {\n",
              "      border-color: transparent;\n",
              "      border-right-color: var(--fill-color);\n",
              "      border-bottom-color: var(--fill-color);\n",
              "    }\n",
              "    90% {\n",
              "      border-color: transparent;\n",
              "      border-bottom-color: var(--fill-color);\n",
              "    }\n",
              "  }\n",
              "</style>\n",
              "\n",
              "  <script>\n",
              "    async function quickchart(key) {\n",
              "      const quickchartButtonEl =\n",
              "        document.querySelector('#' + key + ' button');\n",
              "      quickchartButtonEl.disabled = true;  // To prevent multiple clicks.\n",
              "      quickchartButtonEl.classList.add('colab-df-spinner');\n",
              "      try {\n",
              "        const charts = await google.colab.kernel.invokeFunction(\n",
              "            'suggestCharts', [key], {});\n",
              "      } catch (error) {\n",
              "        console.error('Error during call to suggestCharts:', error);\n",
              "      }\n",
              "      quickchartButtonEl.classList.remove('colab-df-spinner');\n",
              "      quickchartButtonEl.classList.add('colab-df-quickchart-complete');\n",
              "    }\n",
              "    (() => {\n",
              "      let quickchartButtonEl =\n",
              "        document.querySelector('#df-e601b249-2dc9-439b-8160-7aa9abf39762 button');\n",
              "      quickchartButtonEl.style.display =\n",
              "        google.colab.kernel.accessAllowed ? 'block' : 'none';\n",
              "    })();\n",
              "  </script>\n",
              "</div>\n",
              "    </div>\n",
              "  </div>\n"
            ]
          },
          "metadata": {},
          "execution_count": 12
        }
      ]
    },
    {
      "cell_type": "code",
      "source": [
        "def drop_na_labels(data):\n",
        "  temp = data[['word', 'tag']]\n",
        "  #without_na = temp.dropna(subset=['tag']).reset_index().drop(columns='index')\n",
        "  return temp"
      ],
      "metadata": {
        "id": "wKl01oQbV0SO"
      },
      "execution_count": null,
      "outputs": []
    },
    {
      "cell_type": "code",
      "source": [
        "def get_tag_to_integer_dict(train_without_na):\n",
        "  count = 0\n",
        "  tag_to_integer_dictionary = {}\n",
        "  for tag in train_without_na['tag'].unique():\n",
        "    tag_to_integer_dictionary[tag] = count\n",
        "    count += 1\n",
        "\n",
        "  return tag_to_integer_dictionary"
      ],
      "metadata": {
        "id": "H1SVCkLYV9BK"
      },
      "execution_count": null,
      "outputs": []
    },
    {
      "cell_type": "code",
      "source": [
        "def get_tag_to_integer_dict_from_raw(train_raw):\n",
        "  temp = train_raw[['word', 'tag']]\n",
        "  without_na = temp.dropna(subset=['tag']).reset_index().drop(columns='index')\n",
        "  tag_to_integer_dictionary = get_tag_to_integer_dict(without_na)\n",
        "  return tag_to_integer_dictionary"
      ],
      "metadata": {
        "id": "ejHvXn5Dahda"
      },
      "execution_count": null,
      "outputs": []
    },
    {
      "cell_type": "code",
      "source": [
        "tag_to_integer_dictionary = get_tag_to_integer_dict_from_raw(train_raw)"
      ],
      "metadata": {
        "id": "SohFLRnJa3lm"
      },
      "execution_count": null,
      "outputs": []
    },
    {
      "cell_type": "code",
      "source": [
        "def get_sentences_wordstags_array(train_without_na):\n",
        "  sentences_train = []\n",
        "  new_sentence = []\n",
        "\n",
        "  for i, row in train_without_na.iterrows():\n",
        "\n",
        "    if row.isna().all():\n",
        "      sentences_train.append(new_sentence)\n",
        "      if len(new_sentence) > 80:\n",
        "        print(\"long sentence: \", new_sentence)\n",
        "      new_sentence = []\n",
        "\n",
        "    else:\n",
        "      new_sentence.append([row[0], row[1]])\n",
        "\n",
        "\n",
        "    if i > 999999:\n",
        "      print(\"more than 999999\")\n",
        "      break\n",
        "\n",
        "  return sentences_train"
      ],
      "metadata": {
        "id": "ESmqVvGEjPsc"
      },
      "execution_count": null,
      "outputs": []
    },
    {
      "cell_type": "code",
      "source": [
        "def get_sentences_embeddingstags_array(sentences_wordstags_array, tag_to_integer_dictionary):\n",
        "  # replace words with embeddings and tags with integers\n",
        "  embeddings_in_sentences = []\n",
        "  new_sentence = []\n",
        "\n",
        "  count = 0\n",
        "  for sentence in sentences_wordstags_array:\n",
        "    for word, tag in sentence:\n",
        "      if tag not in tag_to_integer_dictionary:\n",
        "        #print(f\"{tag} not found with {word}, skipping\")\n",
        "        continue\n",
        "      if word not in embeddings:\n",
        "        new_embedding = np.random.rand(1, 300)[0].astype(np.float32)\n",
        "\n",
        "      else:\n",
        "        new_embedding = embeddings[word].astype(np.float32)\n",
        "\n",
        "      new_sentence.append([new_embedding, tag_to_integer_dictionary[tag]])\n",
        "      count += 1\n",
        "\n",
        "    embeddings_in_sentences.append(new_sentence)\n",
        "    new_sentence = []\n",
        "\n",
        "    if count > 999999:\n",
        "      print(\"more than 999999\")\n",
        "      break\n",
        "\n",
        "  return embeddings_in_sentences"
      ],
      "metadata": {
        "id": "ghMoFyPjg_U9"
      },
      "execution_count": null,
      "outputs": []
    },
    {
      "cell_type": "code",
      "source": [
        "def get_without_labels(sentences_embeddingstags):\n",
        "  # create copy that doesnt have the NER tag\n",
        "  without_label = []\n",
        "  new_sentence = []\n",
        "\n",
        "  count = 0\n",
        "  for sentence in sentences_embeddingstags:\n",
        "    for embedding, tag in sentence:\n",
        "      new_sentence.append(embedding)\n",
        "      count += 1\n",
        "\n",
        "    without_label.append(new_sentence)\n",
        "    new_sentence = []\n",
        "\n",
        "    if count > 999999:\n",
        "      print(\"more than 999999\")\n",
        "      break\n",
        "\n",
        "  return without_label"
      ],
      "metadata": {
        "id": "VHzWQ3hAx3uG"
      },
      "execution_count": null,
      "outputs": []
    },
    {
      "cell_type": "code",
      "source": [
        "def get_labels(sentences_embeddingstags):\n",
        "  # create labels\n",
        "  labels = []\n",
        "  new_sentence = []\n",
        "\n",
        "  count = 0\n",
        "  for sentence in sentences_embeddingstags:\n",
        "    for embedding, tag in sentence:\n",
        "      new_sentence.append(tag)\n",
        "      count += 1\n",
        "\n",
        "    labels.append(np.array(new_sentence))\n",
        "    new_sentence = []\n",
        "\n",
        "    if count > 999999:\n",
        "      print(\"more than 999999\")\n",
        "      break\n",
        "\n",
        "  return labels"
      ],
      "metadata": {
        "id": "i9ojMMOHTeIv"
      },
      "execution_count": null,
      "outputs": []
    },
    {
      "cell_type": "code",
      "source": [
        "def pad_without_labels_and_labels(without_labels, labels, max_sentence_length):\n",
        "  # padding\n",
        "  print(\"padding: \", max_sentence_length)\n",
        "  padded = tf.keras.utils.pad_sequences(without_labels, padding=\"post\", dtype=\"float32\", maxlen=max_sentence_length)\n",
        "  padded_labels = tf.keras.utils.pad_sequences(labels, padding=\"post\", maxlen=max_sentence_length)\n",
        "\n",
        "  return padded, padded_labels"
      ],
      "metadata": {
        "id": "b0XMqMRfwl21"
      },
      "execution_count": null,
      "outputs": []
    },
    {
      "cell_type": "code",
      "source": [
        "def convert_padded_and_padded_labels_to_np_arrays(padded, padded_labels):\n",
        "  # input: [batch, timestep, feature]\n",
        "  padded_np = np.array(padded)\n",
        "  padded_labels_np = np.array(padded_labels)\n",
        "  \"\"\"\n",
        "  print(type(train_labels))\n",
        "  print(type(train_labels[0]))\n",
        "  print(type(train_labels[0][0]))\n",
        "  print(type(train))\n",
        "  print(type(train[0]))\n",
        "  print(type(train[0][0]))\n",
        "  print(type(train[0][0][0]))\n",
        "  \"\"\"\n",
        "  return padded_np, padded_labels_np\n",
        "\n"
      ],
      "metadata": {
        "id": "SZWxQecY1tRm"
      },
      "execution_count": null,
      "outputs": []
    },
    {
      "cell_type": "code",
      "source": [
        "def process_raw_to_input_and_labels(raw, tag_to_integer_dictionary):\n",
        "  without_na = drop_na_labels(raw)\n",
        "  num_classes = len(without_na['tag'].unique())\n",
        "  sentences_wordstags = get_sentences_wordstags_array(without_na)\n",
        "  sentences_embeddingstags = get_sentences_embeddingstags_array(sentences_wordstags, tag_to_integer_dictionary)\n",
        "  without_labels = get_without_labels(sentences_embeddingstags)\n",
        "  labels = get_labels(sentences_embeddingstags)\n",
        "\n",
        "  return without_labels, labels, tag_to_integer_dictionary, num_classes"
      ],
      "metadata": {
        "id": "hftiXGWaJNeh"
      },
      "execution_count": null,
      "outputs": []
    },
    {
      "cell_type": "code",
      "source": [
        "def pad_input_and_labels(without_labels, labels, max_sentence_length):\n",
        "  padded, padded_labels = pad_without_labels_and_labels(without_labels, labels, max_sentence_length)\n",
        "  padded_np, padded_labels_np = convert_padded_and_padded_labels_to_np_arrays(padded, padded_labels)\n",
        "\n",
        "  return padded_np, padded_labels_np"
      ],
      "metadata": {
        "id": "FGD4zKKiXl3_"
      },
      "execution_count": null,
      "outputs": []
    },
    {
      "cell_type": "code",
      "source": [
        "unpadded_train, unpadded_train_labels, tag_to_integer_dictionary, num_classes = process_raw_to_input_and_labels(train_raw, tag_to_integer_dictionary)\n",
        "unpadded_val, unpadded_val_labels, unused_val_dictionary, unused_val_num_classes = process_raw_to_input_and_labels(train_raw, tag_to_integer_dictionary)\n",
        "unpadded_test, unpadded_test_labels, unused_test_dictionary, unused_test_num_classes = process_raw_to_input_and_labels(test_raw, tag_to_integer_dictionary)\n",
        "\n",
        "max_sentence_length = 0\n",
        "for sentence in unpadded_train:\n",
        "  if len(sentence) > max_sentence_length:\n",
        "    max_sentence_length = len(sentence)\n",
        "for sentence in unpadded_val:\n",
        "  if len(sentence) > max_sentence_length:\n",
        "    max_sentence_length = len(sentence)\n",
        "for sentence in unpadded_test:\n",
        "  if len(sentence) > max_sentence_length:\n",
        "    max_sentence_length = len(sentence)\n",
        "\n",
        "train, train_labels = pad_input_and_labels(unpadded_train, unpadded_train_labels, max_sentence_length)\n",
        "val, val_labels = pad_input_and_labels(unpadded_val, unpadded_val_labels, max_sentence_length)\n",
        "test, test_labels = pad_input_and_labels(unpadded_test, unpadded_test_labels, max_sentence_length)"
      ],
      "metadata": {
        "id": "yhmf0nXISMzG"
      },
      "execution_count": null,
      "outputs": []
    },
    {
      "cell_type": "code",
      "source": [
        "import gc\n",
        "gc.collect()"
      ],
      "metadata": {
        "colab": {
          "base_uri": "https://localhost:8080/"
        },
        "id": "qpNxmT6zyOCC",
        "outputId": "3d3f20bb-e4db-4a89-ecaf-ffc785b7b499"
      },
      "execution_count": null,
      "outputs": [
        {
          "output_type": "execute_result",
          "data": {
            "text/plain": [
              "33383"
            ]
          },
          "metadata": {},
          "execution_count": 35
        }
      ]
    },
    {
      "cell_type": "code",
      "source": [
        "import sys\n",
        "\n",
        "# Function to convert bytes to a more readable format\n",
        "def sizeof_fmt(num, suffix='B'):\n",
        "    for unit in ['','Ki','Mi','Gi','Ti','Pi','Ei','Zi']:\n",
        "        if abs(num) < 1024.0:\n",
        "            return \"%3.1f %s%s\" % (num, unit, suffix)\n",
        "        num /= 1024.0\n",
        "    return \"%.1f %s%s\" % (num, 'Yi', suffix)\n",
        "\n",
        "# Iterate over the dictionary of local variables\n",
        "for name, size in sorted(((name, sys.getsizeof(value)) for name, value in locals().items()),\n",
        "                         key=lambda x: -x[1])[:10]:  # adjust slice for more or fewer variables\n",
        "    print(\"{:>30}: {:>8}\".format(name, sizeof_fmt(size)))\n"
      ],
      "metadata": {
        "colab": {
          "base_uri": "https://localhost:8080/"
        },
        "id": "TDp9hEj7x5YB",
        "outputId": "80c54805-e190-4ab8-edd1-fa2d6178c6d2"
      },
      "execution_count": null,
      "outputs": [
        {
          "output_type": "stream",
          "name": "stdout",
          "text": [
            "                         train:  2.1 GiB\n",
            "                           val:  2.1 GiB\n",
            "                          test: 522.6 MiB\n",
            "                            __: 12.2 MiB\n",
            "                validation_raw: 12.2 MiB\n",
            "                           _12: 12.2 MiB\n",
            "                           ___: 11.1 MiB\n",
            "                      test_raw: 11.1 MiB\n",
            "                           _11: 11.1 MiB\n",
            "                  train_labels:  7.1 MiB\n"
          ]
        }
      ]
    },
    {
      "cell_type": "code",
      "source": [
        "print(train.shape)\n",
        "print(test.shape)"
      ],
      "metadata": {
        "id": "QRm4-c-QTJsr",
        "colab": {
          "base_uri": "https://localhost:8080/"
        },
        "outputId": "fa9ef322-038c-4800-e685-2c3b15b7b17a"
      },
      "execution_count": null,
      "outputs": [
        {
          "output_type": "stream",
          "name": "stdout",
          "text": [
            "(14986, 124, 300)\n",
            "(3683, 124, 300)\n"
          ]
        }
      ]
    },
    {
      "cell_type": "code",
      "source": [
        "print(num_classes)\n",
        "num_classes = 8 #fix this"
      ],
      "metadata": {
        "colab": {
          "base_uri": "https://localhost:8080/"
        },
        "id": "73ZJVjymAbRQ",
        "outputId": "0bcaeeb6-1bb2-48d8-bade-de6c8b0335ed"
      },
      "execution_count": null,
      "outputs": [
        {
          "output_type": "stream",
          "name": "stdout",
          "text": [
            "9\n"
          ]
        }
      ]
    },
    {
      "cell_type": "code",
      "source": [
        "import keras\n",
        "from keras import layers"
      ],
      "metadata": {
        "id": "ERqaWisbLvhV"
      },
      "execution_count": null,
      "outputs": []
    },
    {
      "cell_type": "code",
      "source": [
        "inputs = keras.Input(shape = (train.shape[1], train.shape[2]))\n",
        "x = layers.Masking(mask_value=0.0)(inputs)\n",
        "x = layers.Bidirectional(layers.LSTM(16, return_sequences=True))(x)\n",
        "outputs = layers.Dense(num_classes, activation=\"softmax\")(x)\n",
        "model = keras.Model(inputs, outputs)\n",
        "model.summary()"
      ],
      "metadata": {
        "id": "0EI7b51SKQOx",
        "colab": {
          "base_uri": "https://localhost:8080/"
        },
        "outputId": "51be20d5-90f4-4fd2-977d-1a77e096f638"
      },
      "execution_count": null,
      "outputs": [
        {
          "output_type": "stream",
          "name": "stdout",
          "text": [
            "Model: \"model\"\n",
            "_________________________________________________________________\n",
            " Layer (type)                Output Shape              Param #   \n",
            "=================================================================\n",
            " input_1 (InputLayer)        [(None, 124, 300)]        0         \n",
            "                                                                 \n",
            " masking (Masking)           (None, 124, 300)          0         \n",
            "                                                                 \n",
            " bidirectional (Bidirection  (None, 124, 32)           40576     \n",
            " al)                                                             \n",
            "                                                                 \n",
            " dense (Dense)               (None, 124, 8)            264       \n",
            "                                                                 \n",
            "=================================================================\n",
            "Total params: 40840 (159.53 KB)\n",
            "Trainable params: 40840 (159.53 KB)\n",
            "Non-trainable params: 0 (0.00 Byte)\n",
            "_________________________________________________________________\n"
          ]
        }
      ]
    },
    {
      "cell_type": "code",
      "source": [
        "print(type(train[0][0][0]))\n",
        "[print(i.shape, i.dtype) for i in model.inputs]\n",
        "[print(o.shape, o.dtype) for o in model.outputs]\n",
        "[print(l.name, l.input_shape, l.dtype) for l in model.layers]"
      ],
      "metadata": {
        "id": "C2lhx2sGAUkl",
        "colab": {
          "base_uri": "https://localhost:8080/"
        },
        "outputId": "ebd781a9-a6ef-4c7a-9797-ce8f5988082d"
      },
      "execution_count": null,
      "outputs": [
        {
          "output_type": "stream",
          "name": "stdout",
          "text": [
            "<class 'numpy.float32'>\n",
            "(None, 124, 300) <dtype: 'float32'>\n",
            "(None, 124, 8) <dtype: 'float32'>\n",
            "input_1 [(None, 124, 300)] float32\n",
            "masking (None, 124, 300) float32\n",
            "bidirectional (None, 124, 300) float32\n",
            "dense (None, 124, 32) float32\n"
          ]
        },
        {
          "output_type": "execute_result",
          "data": {
            "text/plain": [
              "[None, None, None, None]"
            ]
          },
          "metadata": {},
          "execution_count": 31
        }
      ]
    },
    {
      "cell_type": "code",
      "source": [
        "model.compile(\"adam\", \"sparse_categorical_crossentropy\", metrics=[\"accuracy\"])\n",
        "#model.fit(train, train_labels, batch_size=32, epochs=2)\n",
        "model.fit(train, train_labels, batch_size=32, epochs=2, validation_data=(val, val_labels))"
      ],
      "metadata": {
        "id": "GHREot04KUGx"
      },
      "execution_count": null,
      "outputs": []
    },
    {
      "cell_type": "code",
      "source": [],
      "metadata": {
        "id": "Uf0SEsgUYub5"
      },
      "execution_count": null,
      "outputs": []
    }
  ]
}